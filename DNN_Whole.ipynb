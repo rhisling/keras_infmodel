{
  "cells": [
    {
      "cell_type": "code",
      "execution_count": 1,
      "metadata": {
        "pycharm": {
          "is_executing": false
        }
      },
      "outputs": [
        {
          "traceback": [
            "\u001b[0;31m---------------------------------------------------------------------------\u001b[0m",
            "\u001b[0;31mModuleNotFoundError\u001b[0m                       Traceback (most recent call last)",
            "\u001b[0;32m\u003cipython-input-1-bdbde0557384\u003e\u001b[0m in \u001b[0;36m\u003cmodule\u003e\u001b[0;34m\u001b[0m\n\u001b[1;32m      1\u001b[0m \u001b[0;31m# Import the packages\u001b[0m\u001b[0;34m\u001b[0m\u001b[0;34m\u001b[0m\u001b[0;34m\u001b[0m\u001b[0m\n\u001b[1;32m      2\u001b[0m \u001b[0;32mimport\u001b[0m \u001b[0mtensorflow\u001b[0m \u001b[0;32mas\u001b[0m \u001b[0mtf\u001b[0m\u001b[0;34m\u001b[0m\u001b[0;34m\u001b[0m\u001b[0m\n\u001b[0;32m----\u003e 3\u001b[0;31m \u001b[0;32mimport\u001b[0m \u001b[0mpandas\u001b[0m \u001b[0;32mas\u001b[0m \u001b[0mpd\u001b[0m\u001b[0;34m\u001b[0m\u001b[0;34m\u001b[0m\u001b[0m\n\u001b[0m\u001b[1;32m      4\u001b[0m \u001b[0;32mimport\u001b[0m \u001b[0mnumpy\u001b[0m \u001b[0;32mas\u001b[0m \u001b[0mnp\u001b[0m\u001b[0;34m\u001b[0m\u001b[0;34m\u001b[0m\u001b[0m\n\u001b[1;32m      5\u001b[0m \u001b[0;32mimport\u001b[0m \u001b[0mmath\u001b[0m\u001b[0;34m\u001b[0m\u001b[0;34m\u001b[0m\u001b[0m\n",
            "\u001b[0;31mModuleNotFoundError\u001b[0m: No module named \u0027pandas\u0027"
          ],
          "ename": "ModuleNotFoundError",
          "evalue": "No module named \u0027pandas\u0027",
          "output_type": "error"
        }
      ],
      "source": [
        "# Import the packages\n",
        "import tensorflow as tf\n",
        "import pandas as pd\n",
        "import numpy as np\n",
        "import math"
      ]
    },
    {
      "cell_type": "code",
      "execution_count": 141,
      "metadata": {
        "pycharm": {}
      },
      "outputs": [
        {
          "name": "stdout",
          "output_type": "stream",
          "text": [
            "Tensorflow version: 1.13.0-rc2\n"
          ]
        }
      ],
      "source": [
        "# Check the tensorflow version\n",
        "print(\u0027Tensorflow version: \u0027 + tf.__version__)\n",
        "tf.set_random_seed(0)"
      ]
    },
    {
      "cell_type": "code",
      "execution_count": 142,
      "metadata": {
        "pycharm": {}
      },
      "outputs": [],
      "source": [
        "# To plot within notebook\n",
        "import matplotlib.pyplot as plt\n",
        "%matplotlib inline\n",
        "from matplotlib.pylab import rcParams\n",
        "rcParams[\u0027figure.figsize\u0027] \u003d 20, 10"
      ]
    },
    {
      "cell_type": "code",
      "execution_count": 143,
      "metadata": {
        "pycharm": {}
      },
      "outputs": [],
      "source": [
        "# To normalizie the data\n",
        "from sklearn.preprocessing import MinMaxScaler, RobustScaler, Normalizer, StandardScaler\n",
        "#scaler \u003d MinMaxScaler(feature_range\u003d(0, 1)) # shrinks the range such that the range is now between 0 and 1\n",
        "#scaler \u003d RobustScaler() \n",
        "#scaler \u003d Normalizer()\n",
        "scaler \u003d StandardScaler()"
      ]
    },
    {
      "cell_type": "code",
      "execution_count": 144,
      "metadata": {
        "pycharm": {}
      },
      "outputs": [],
      "source": [
        "# Load the numpy array input data\n",
        "data_media_stream \u003d np.load(\u0027MediaStreamBatch.npy\u0027)\n",
        "data_web_search \u003d np.load(\u0027whole_ss_filenameY.npy\u0027)\n",
        "data_web_server \u003d np.load(\u0027whole_webserv_filenameY.npy\u0027)\n",
        "data_mix_1 \u003d np.load(\u0027whole_april7_try1_filenameY.npy\u0027)\n",
        "data_mix_2 \u003d np.load(\u0027whole_april7_try2_filenameY.npy\u0027)"
      ]
    },
    {
      "cell_type": "code",
      "execution_count": 145,
      "metadata": {
        "pycharm": {}
      },
      "outputs": [],
      "source": [
        "# The dimensions\n",
        "n \u003d data_media_stream.shape[0] + data_web_search.shape[0] + data_web_server.shape[0] + data_mix_1.shape[0] + data_mix_2.shape[0]"
      ]
    },
    {
      "cell_type": "code",
      "execution_count": 146,
      "metadata": {
        "pycharm": {}
      },
      "outputs": [],
      "source": [
        "# Combine all data together\n",
        "data \u003d np.concatenate((data_media_stream, data_web_search, data_web_server, data_mix_1, data_mix_2), axis\u003d0)"
      ]
    },
    {
      "cell_type": "code",
      "execution_count": 147,
      "metadata": {
        "pycharm": {}
      },
      "outputs": [],
      "source": [
        "# Convert the np_array to .csv file\n",
        "pd.DataFrame(data).to_csv(\u0027whole_data.csv\u0027)"
      ]
    },
    {
      "cell_type": "code",
      "execution_count": 148,
      "metadata": {
        "pycharm": {}
      },
      "outputs": [],
      "source": [
        "# Read the file\n",
        "#df \u003d pd.read_csv(\u0027whole_data.csv\u0027)\n",
        "\n",
        "# This is the one that removes the insignificant features\n",
        "df \u003d pd.read_csv(\u0027whole_data_extract.csv\u0027) \n",
        "data \u003d df.values"
      ]
    },
    {
      "cell_type": "code",
      "execution_count": 149,
      "metadata": {
        "pycharm": {}
      },
      "outputs": [
        {
          "data": {
            "text/html": [
              "\u003cdiv\u003e\n",
              "\u003cstyle scoped\u003e\n",
              "    .dataframe tbody tr th:only-of-type {\n",
              "        vertical-align: middle;\n",
              "    }\n",
              "\n",
              "    .dataframe tbody tr th {\n",
              "        vertical-align: top;\n",
              "    }\n",
              "\n",
              "    .dataframe thead th {\n",
              "        text-align: right;\n",
              "    }\n",
              "\u003c/style\u003e\n",
              "\u003ctable border\u003d\"1\" class\u003d\"dataframe\"\u003e\n",
              "  \u003cthead\u003e\n",
              "    \u003ctr style\u003d\"text-align: right;\"\u003e\n",
              "      \u003cth\u003e\u003c/th\u003e\n",
              "      \u003cth\u003eUnnamed: 0\u003c/th\u003e\n",
              "      \u003cth\u003e0\u003c/th\u003e\n",
              "      \u003cth\u003e1\u003c/th\u003e\n",
              "      \u003cth\u003e2\u003c/th\u003e\n",
              "      \u003cth\u003e3\u003c/th\u003e\n",
              "      \u003cth\u003e4\u003c/th\u003e\n",
              "      \u003cth\u003e6\u003c/th\u003e\n",
              "      \u003cth\u003e7\u003c/th\u003e\n",
              "      \u003cth\u003e8\u003c/th\u003e\n",
              "      \u003cth\u003e9\u003c/th\u003e\n",
              "      \u003cth\u003e17\u003c/th\u003e\n",
              "      \u003cth\u003e19\u003c/th\u003e\n",
              "      \u003cth\u003e20\u003c/th\u003e\n",
              "      \u003cth\u003e21\u003c/th\u003e\n",
              "      \u003cth\u003e22\u003c/th\u003e\n",
              "      \u003cth\u003e23\u003c/th\u003e\n",
              "      \u003cth\u003e24\u003c/th\u003e\n",
              "    \u003c/tr\u003e\n",
              "  \u003c/thead\u003e\n",
              "  \u003ctbody\u003e\n",
              "    \u003ctr\u003e\n",
              "      \u003cth\u003e0\u003c/th\u003e\n",
              "      \u003ctd\u003e0\u003c/td\u003e\n",
              "      \u003ctd\u003e1274.861219\u003c/td\u003e\n",
              "      \u003ctd\u003e38\u003c/td\u003e\n",
              "      \u003ctd\u003e0.04\u003c/td\u003e\n",
              "      \u003ctd\u003e0.05\u003c/td\u003e\n",
              "      \u003ctd\u003e36.90\u003c/td\u003e\n",
              "      \u003ctd\u003e0.2\u003c/td\u003e\n",
              "      \u003ctd\u003e2481\u003c/td\u003e\n",
              "      \u003ctd\u003e1806\u003c/td\u003e\n",
              "      \u003ctd\u003e1510\u003c/td\u003e\n",
              "      \u003ctd\u003e0\u003c/td\u003e\n",
              "      \u003ctd\u003e0\u003c/td\u003e\n",
              "      \u003ctd\u003e522\u003c/td\u003e\n",
              "      \u003ctd\u003e66\u003c/td\u003e\n",
              "      \u003ctd\u003e432\u003c/td\u003e\n",
              "      \u003ctd\u003e9.94565\u003c/td\u003e\n",
              "      \u003ctd\u003e74.3\u003c/td\u003e\n",
              "    \u003c/tr\u003e\n",
              "    \u003ctr\u003e\n",
              "      \u003cth\u003e1\u003c/th\u003e\n",
              "      \u003ctd\u003e1\u003c/td\u003e\n",
              "      \u003ctd\u003e1203.634562\u003c/td\u003e\n",
              "      \u003ctd\u003e38\u003c/td\u003e\n",
              "      \u003ctd\u003e0.03\u003c/td\u003e\n",
              "      \u003ctd\u003e0.05\u003c/td\u003e\n",
              "      \u003ctd\u003e36.71\u003c/td\u003e\n",
              "      \u003ctd\u003e0.2\u003c/td\u003e\n",
              "      \u003ctd\u003e2467\u003c/td\u003e\n",
              "      \u003ctd\u003e1765\u003c/td\u003e\n",
              "      \u003ctd\u003e1416\u003c/td\u003e\n",
              "      \u003ctd\u003e0\u003c/td\u003e\n",
              "      \u003ctd\u003e0\u003c/td\u003e\n",
              "      \u003ctd\u003e615\u003c/td\u003e\n",
              "      \u003ctd\u003e175\u003c/td\u003e\n",
              "      \u003ctd\u003e432\u003c/td\u003e\n",
              "      \u003ctd\u003e13.32190\u003c/td\u003e\n",
              "      \u003ctd\u003e86.4\u003c/td\u003e\n",
              "    \u003c/tr\u003e\n",
              "    \u003ctr\u003e\n",
              "      \u003cth\u003e2\u003c/th\u003e\n",
              "      \u003ctd\u003e2\u003c/td\u003e\n",
              "      \u003ctd\u003e1201.212156\u003c/td\u003e\n",
              "      \u003ctd\u003e38\u003c/td\u003e\n",
              "      \u003ctd\u003e0.04\u003c/td\u003e\n",
              "      \u003ctd\u003e0.05\u003c/td\u003e\n",
              "      \u003ctd\u003e36.78\u003c/td\u003e\n",
              "      \u003ctd\u003e0.2\u003c/td\u003e\n",
              "      \u003ctd\u003e2471\u003c/td\u003e\n",
              "      \u003ctd\u003e1772\u003c/td\u003e\n",
              "      \u003ctd\u003e1431\u003c/td\u003e\n",
              "      \u003ctd\u003e0\u003c/td\u003e\n",
              "      \u003ctd\u003e2048\u003c/td\u003e\n",
              "      \u003ctd\u003e1177\u003c/td\u003e\n",
              "      \u003ctd\u003e693\u003c/td\u003e\n",
              "      \u003ctd\u003e432\u003c/td\u003e\n",
              "      \u003ctd\u003e13.11670\u003c/td\u003e\n",
              "      \u003ctd\u003e85.9\u003c/td\u003e\n",
              "    \u003c/tr\u003e\n",
              "    \u003ctr\u003e\n",
              "      \u003cth\u003e3\u003c/th\u003e\n",
              "      \u003ctd\u003e3\u003c/td\u003e\n",
              "      \u003ctd\u003e1201.047281\u003c/td\u003e\n",
              "      \u003ctd\u003e38\u003c/td\u003e\n",
              "      \u003ctd\u003e0.03\u003c/td\u003e\n",
              "      \u003ctd\u003e0.06\u003c/td\u003e\n",
              "      \u003ctd\u003e36.71\u003c/td\u003e\n",
              "      \u003ctd\u003e0.2\u003c/td\u003e\n",
              "      \u003ctd\u003e2515\u003c/td\u003e\n",
              "      \u003ctd\u003e1854\u003c/td\u003e\n",
              "      \u003ctd\u003e1471\u003c/td\u003e\n",
              "      \u003ctd\u003e0\u003c/td\u003e\n",
              "      \u003ctd\u003e0\u003c/td\u003e\n",
              "      \u003ctd\u003e660\u003c/td\u003e\n",
              "      \u003ctd\u003e224\u003c/td\u003e\n",
              "      \u003ctd\u003e432\u003c/td\u003e\n",
              "      \u003ctd\u003e10.81540\u003c/td\u003e\n",
              "      \u003ctd\u003e85.4\u003c/td\u003e\n",
              "    \u003c/tr\u003e\n",
              "    \u003ctr\u003e\n",
              "      \u003cth\u003e4\u003c/th\u003e\n",
              "      \u003ctd\u003e4\u003c/td\u003e\n",
              "      \u003ctd\u003e1201.296063\u003c/td\u003e\n",
              "      \u003ctd\u003e38\u003c/td\u003e\n",
              "      \u003ctd\u003e0.03\u003c/td\u003e\n",
              "      \u003ctd\u003e0.05\u003c/td\u003e\n",
              "      \u003ctd\u003e36.71\u003c/td\u003e\n",
              "      \u003ctd\u003e0.2\u003c/td\u003e\n",
              "      \u003ctd\u003e2494\u003c/td\u003e\n",
              "      \u003ctd\u003e1795\u003c/td\u003e\n",
              "      \u003ctd\u003e1379\u003c/td\u003e\n",
              "      \u003ctd\u003e0\u003c/td\u003e\n",
              "      \u003ctd\u003e98304\u003c/td\u003e\n",
              "      \u003ctd\u003e459\u003c/td\u003e\n",
              "      \u003ctd\u003e535\u003c/td\u003e\n",
              "      \u003ctd\u003e432\u003c/td\u003e\n",
              "      \u003ctd\u003e11.35030\u003c/td\u003e\n",
              "      \u003ctd\u003e76.6\u003c/td\u003e\n",
              "    \u003c/tr\u003e\n",
              "  \u003c/tbody\u003e\n",
              "\u003c/table\u003e\n",
              "\u003c/div\u003e"
            ],
            "text/plain": [
              "   Unnamed: 0            0   1     2     3      4    6     7     8     9  17  \\\n",
              "0           0  1274.861219  38  0.04  0.05  36.90  0.2  2481  1806  1510   0   \n",
              "1           1  1203.634562  38  0.03  0.05  36.71  0.2  2467  1765  1416   0   \n",
              "2           2  1201.212156  38  0.04  0.05  36.78  0.2  2471  1772  1431   0   \n",
              "3           3  1201.047281  38  0.03  0.06  36.71  0.2  2515  1854  1471   0   \n",
              "4           4  1201.296063  38  0.03  0.05  36.71  0.2  2494  1795  1379   0   \n",
              "\n",
              "      19    20   21   22        23    24  \n",
              "0      0   522   66  432   9.94565  74.3  \n",
              "1      0   615  175  432  13.32190  86.4  \n",
              "2   2048  1177  693  432  13.11670  85.9  \n",
              "3      0   660  224  432  10.81540  85.4  \n",
              "4  98304   459  535  432  11.35030  76.6  "
            ]
          },
          "execution_count": 149,
          "metadata": {},
          "output_type": "execute_result"
        }
      ],
      "source": [
        "df.head()"
      ]
    },
    {
      "cell_type": "code",
      "execution_count": 150,
      "metadata": {
        "pycharm": {}
      },
      "outputs": [
        {
          "name": "stdout",
          "output_type": "stream",
          "text": [
            "16010\n",
            "17\n"
          ]
        }
      ],
      "source": [
        "# The dimensions\n",
        "n \u003d data.shape[0] # 16010 rows\n",
        "p \u003d data.shape[1] # 25 cols\n",
        "\n",
        "print(n) \n",
        "print(p)"
      ]
    },
    {
      "cell_type": "code",
      "execution_count": 151,
      "metadata": {
        "pycharm": {}
      },
      "outputs": [],
      "source": [
        "# Range of the power consumption\n",
        "# print(df[[df.columns[25]]].max())\n",
        "# print(df[[df.columns[25]]].min())"
      ]
    },
    {
      "cell_type": "code",
      "execution_count": 152,
      "metadata": {
        "pycharm": {}
      },
      "outputs": [],
      "source": [
        "# Plot\n",
        "# plt.figure(figsize\u003d(16, 8))\n",
        "# plt.title(\u0027bytes_write v.s. Power Consumption\u0027)\n",
        "# plt.ylabel(\u0027Power Consumption (Watt)\u0027)\n",
        "# plt.xlabel(\u0027bytes_write\u0027)\n",
        "# plt.grid(True)\n",
        "\n",
        "# plt.plot(df[df.columns[20]], df[df.columns[25]])"
      ]
    },
    {
      "cell_type": "code",
      "execution_count": 153,
      "metadata": {
        "pycharm": {}
      },
      "outputs": [],
      "source": [
        "#Split the training and test data:\n",
        "train_start \u003d 1 \n",
        "train_end \u003d int(np.floor(0.8 * n)) # 80% training data; 20% test data \n",
        "test_start \u003d train_end \n",
        "test_end \u003d n\n",
        "data_train \u003d data[np.arange(train_start, train_end), :] \n",
        "data_test \u003d data[np.arange(test_start, test_end), :]"
      ]
    },
    {
      "cell_type": "code",
      "execution_count": 154,
      "metadata": {
        "pycharm": {}
      },
      "outputs": [],
      "source": [
        "# Scale data\n",
        "data_train \u003d scaler.fit_transform(data_train)\n",
        "data_test \u003d scaler.transform(data_test)"
      ]
    },
    {
      "cell_type": "code",
      "execution_count": 155,
      "metadata": {
        "pycharm": {}
      },
      "outputs": [],
      "source": [
        "# Build X and y\n",
        "\n",
        "# traing dataset\n",
        "# X_train \u003d data_train[:, 0: 24] # 0 to 22nd: 23 in total\n",
        "# y_train \u003d data_train[:, 24] # 23rd to 24th, 1 in total\n",
        "\n",
        "# # testing dataset\n",
        "# X_test \u003d data_test[:, 0: 24]\n",
        "# y_test \u003d data_test[:, 24]"
      ]
    },
    {
      "cell_type": "code",
      "execution_count": 156,
      "metadata": {
        "pycharm": {}
      },
      "outputs": [],
      "source": [
        "# Build X and y\n",
        "\n",
        "# traing dataset\n",
        "X_train \u003d data_train[:, 1: 16] # 0 to 22nd: 23 in total\n",
        "y_train \u003d data_train[:, 16] # 23rd to 24th, 1 in total\n",
        "\n",
        "# testing dataset\n",
        "X_test \u003d data_test[:, 1: 16]\n",
        "y_test \u003d data_test[:, 16]"
      ]
    },
    {
      "cell_type": "code",
      "execution_count": 157,
      "metadata": {
        "pycharm": {}
      },
      "outputs": [],
      "source": [
        "# Number of features\n",
        "n_features \u003d 15 \n",
        "#n_features \u003d 24 # from 0th - 23th, 24 in total"
      ]
    },
    {
      "cell_type": "code",
      "execution_count": 158,
      "metadata": {
        "pycharm": {}
      },
      "outputs": [],
      "source": [
        "# Numebr of neurons\n",
        "n_neurons_1 \u003d 128\n",
        "n_neurons_2 \u003d 64\n",
        "n_neurons_3 \u003d 32\n",
        "n_neurons_4 \u003d 16\n",
        "# n_neurons_5 \u003d 8\n",
        "# n_neurons_6 \u003d 4"
      ]
    },
    {
      "cell_type": "code",
      "execution_count": 159,
      "metadata": {
        "pycharm": {}
      },
      "outputs": [],
      "source": [
        "# Placeholder: placeholders are used to feed values from python to TensorFlow ops\n",
        "# X are the inputs, which are the features here, Y for output\n",
        "X \u003d tf.placeholder(dtype\u003dtf.float32, shape\u003d[None, n_features])\n",
        "Y \u003d tf.placeholder(dtype\u003dtf.float32, shape\u003d[None])\n",
        "global_step \u003d tf.Variable(0, trainable\u003dFalse)"
      ]
    },
    {
      "cell_type": "code",
      "execution_count": 160,
      "metadata": {
        "pycharm": {}
      },
      "outputs": [],
      "source": [
        "# Initializers\n",
        "sigma \u003d 1\n",
        "weight_initializer \u003d tf.variance_scaling_initializer(mode\u003d\"fan_avg\", distribution\u003d\"uniform\", scale\u003dsigma)\n",
        "bias_initializer \u003d tf.zeros_initializer()"
      ]
    },
    {
      "cell_type": "code",
      "execution_count": 161,
      "metadata": {
        "pycharm": {}
      },
      "outputs": [],
      "source": [
        "# Variables for hidden weights and biases\n",
        "\n",
        "# Layer 1\n",
        "W_hidden_1 \u003d tf.Variable(weight_initializer([n_features, n_neurons_1]))\n",
        "bias_hidden_1 \u003d tf.Variable(bias_initializer([n_neurons_1]))\n",
        "\n",
        "# Layer 2\n",
        "W_hidden_2 \u003d tf.Variable(weight_initializer([n_neurons_1, n_neurons_2]))\n",
        "bias_hidden_2 \u003d tf.Variable(bias_initializer([n_neurons_2]))\n",
        "\n",
        "# Layer 3\n",
        "W_hidden_3 \u003d tf.Variable(weight_initializer([n_neurons_2, n_neurons_3]))\n",
        "bias_hidden_3 \u003d tf.Variable(bias_initializer([n_neurons_3]))\n",
        "\n",
        "# Layer 4\n",
        "W_hidden_4 \u003d tf.Variable(weight_initializer([n_neurons_3, n_neurons_4]))\n",
        "bias_hidden_4 \u003d tf.Variable(bias_initializer([n_neurons_4]))\n",
        "\n",
        "# Layer 5\n",
        "# W_hidden_5 \u003d tf.Variable(weight_initializer([n_neurons_4, n_neurons_5]))\n",
        "# bias_hidden_5 \u003d tf.Variable(bias_initializer([n_neurons_5]))\n",
        "\n",
        "# Layer 6\n",
        "# W_hidden_6 \u003d tf.Variable(weight_initializer([n_neurons_5, n_neurons_6]))\n",
        "# bias_hidden_6 \u003d tf.Variable(bias_initializer([n_neurons_6]))"
      ]
    },
    {
      "cell_type": "code",
      "execution_count": 162,
      "metadata": {
        "pycharm": {}
      },
      "outputs": [],
      "source": [
        "# Output layer\n",
        "W_out \u003d tf.Variable(weight_initializer([n_neurons_4, 1]))\n",
        "bias_out \u003d tf.Variable(bias_initializer([1]))"
      ]
    },
    {
      "cell_type": "code",
      "execution_count": 163,
      "metadata": {
        "pycharm": {}
      },
      "outputs": [],
      "source": [
        "# Hidden layer: 5 layers in total\n",
        "hidden_1 \u003d tf.nn.relu(tf.add(tf.matmul(X, W_hidden_1), bias_hidden_1))\n",
        "hidden_2 \u003d tf.nn.relu(tf.add(tf.matmul(hidden_1, W_hidden_2), bias_hidden_2))\n",
        "hidden_3 \u003d tf.nn.relu(tf.add(tf.matmul(hidden_2, W_hidden_3), bias_hidden_3))\n",
        "hidden_4 \u003d tf.nn.relu(tf.add(tf.matmul(hidden_3, W_hidden_4), bias_hidden_4))\n",
        "# hidden_5 \u003d tf.nn.relu(tf.add(tf.matmul(hidden_4, W_hidden_5), bias_hidden_5))\n",
        "# hidden_6 \u003d tf.nn.relu(tf.add(tf.matmul(hidden_5, W_hidden_6), bias_hidden_6))"
      ]
    },
    {
      "cell_type": "code",
      "execution_count": 164,
      "metadata": {
        "pycharm": {}
      },
      "outputs": [],
      "source": [
        "# Output layer (must be transposed)\n",
        "out \u003d tf.transpose(tf.add(tf.matmul(hidden_4, W_out), bias_out))"
      ]
    },
    {
      "cell_type": "code",
      "execution_count": 165,
      "metadata": {
        "pycharm": {}
      },
      "outputs": [],
      "source": [
        "# Cost function\n",
        "mse \u003d tf.reduce_mean(tf.squared_difference(out, Y))"
      ]
    },
    {
      "cell_type": "code",
      "execution_count": 166,
      "metadata": {
        "pycharm": {}
      },
      "outputs": [],
      "source": [
        "# Learning rate: apply the training decay\n",
        "# the learning rate is: # 0.0001 + 0.003 * (1/e)^(global_step/50)), i.e. exponential decay from 0.003 -\u003e 0.0001\n",
        "learning_rate \u003d 0.0001 + tf.train.exponential_decay(0.003, global_step, 50, 0.96, 1/math.e)"
      ]
    },
    {
      "cell_type": "code",
      "execution_count": 167,
      "metadata": {
        "pycharm": {}
      },
      "outputs": [],
      "source": [
        "# Optimizer; Adam stands for Adaptive Moment Estimation\n",
        "#optimizer \u003d tf.train.AdamOptimizer(learning_rate).minimize(mse)\n",
        "#optimizer \u003d tf.train.GradientDescentOptimizer(learning_rate).minimize(mse)\n",
        "optimizer \u003d tf.train.RMSPropOptimizer(learning_rate).minimize(mse)"
      ]
    },
    {
      "cell_type": "code",
      "execution_count": 168,
      "metadata": {
        "pycharm": {}
      },
      "outputs": [],
      "source": [
        "# Perform the initialization which is only the initialization of all global variables\n",
        "init \u003d tf.global_variables_initializer()"
      ]
    },
    {
      "cell_type": "code",
      "execution_count": 169,
      "metadata": {
        "pycharm": {}
      },
      "outputs": [],
      "source": [
        "# ------ Set Session or InteractiveSession\n",
        "sess \u003d tf.Session()\n",
        "sess.run(init)"
      ]
    },
    {
      "cell_type": "code",
      "execution_count": 170,
      "metadata": {
        "pycharm": {}
      },
      "outputs": [
        {
          "data": {
            "image/png": "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\u003d\u003d\n",
            "text/plain": [
              "\u003cFigure size 1440x720 with 1 Axes\u003e"
            ]
          },
          "metadata": {
            "needs_background": "light"
          },
          "output_type": "display_data"
        }
      ],
      "source": [
        "# Setup interactive plot\n",
        "plt.ion()\n",
        "fig \u003d plt.figure()\n",
        "ax1 \u003d fig.add_subplot(111)\n",
        "line1, \u003d ax1.plot(y_test)\n",
        "line2, \u003d ax1.plot(y_test * 0.5)\n",
        "plt.show()"
      ]
    },
    {
      "cell_type": "code",
      "execution_count": 171,
      "metadata": {
        "pycharm": {}
      },
      "outputs": [],
      "source": [
        "# Fit neural net\n",
        "batch_size \u003d 128 # Total number of training examples present in a single batch.\n",
        "mse_train \u003d []\n",
        "mse_test \u003d []"
      ]
    },
    {
      "cell_type": "code",
      "execution_count": 172,
      "metadata": {
        "pycharm": {}
      },
      "outputs": [
        {
          "name": "stdout",
          "output_type": "stream",
          "text": [
            "Epoch 1\n",
            "MSE Train:  1.0500991\n",
            "MSE Test:  13.837317\n",
            "\n",
            "\n",
            "Epoch 2\n",
            "MSE Train:  0.302094\n",
            "MSE Test:  6.5089293\n",
            "\n",
            "\n",
            "Epoch 3\n",
            "MSE Train:  0.19005144\n",
            "MSE Test:  0.41860342\n",
            "\n",
            "\n",
            "Epoch 4\n",
            "MSE Train:  0.10371441\n",
            "MSE Test:  0.9387994\n",
            "\n",
            "\n",
            "Epoch 5\n",
            "MSE Train:  0.08815479\n",
            "MSE Test:  0.7852844\n",
            "\n",
            "\n",
            "Epoch 6\n",
            "MSE Train:  0.0756561\n",
            "MSE Test:  0.5874296\n",
            "\n",
            "\n",
            "Epoch 7\n",
            "MSE Train:  0.097965054\n",
            "MSE Test:  0.4465858\n",
            "\n",
            "\n",
            "Epoch 8\n",
            "MSE Train:  0.08567649\n",
            "MSE Test:  0.64824116\n",
            "\n",
            "\n",
            "Epoch 9\n",
            "MSE Train:  0.10601843\n",
            "MSE Test:  1.4937938\n",
            "\n",
            "\n",
            "Epoch 10\n",
            "MSE Train:  0.07906282\n",
            "MSE Test:  0.99353045\n",
            "\n",
            "\n",
            "Epoch 11\n",
            "MSE Train:  0.10377188\n",
            "MSE Test:  1.0095258\n",
            "\n",
            "\n",
            "Epoch 12\n",
            "MSE Train:  0.11917372\n",
            "MSE Test:  0.8063955\n",
            "\n",
            "\n",
            "Epoch 13\n",
            "MSE Train:  0.10758195\n",
            "MSE Test:  0.89266276\n",
            "\n",
            "\n",
            "Epoch 14\n",
            "MSE Train:  0.0620742\n",
            "MSE Test:  1.1013999\n",
            "\n",
            "\n",
            "Epoch 15\n",
            "MSE Train:  0.07080166\n",
            "MSE Test:  0.4359542\n",
            "\n",
            "\n",
            "Epoch 16\n",
            "MSE Train:  0.06417057\n",
            "MSE Test:  1.1181906\n",
            "\n",
            "\n",
            "Epoch 17\n",
            "MSE Train:  0.058199078\n",
            "MSE Test:  0.9262954\n",
            "\n",
            "\n",
            "Epoch 18\n",
            "MSE Train:  0.09805412\n",
            "MSE Test:  0.7271406\n",
            "\n",
            "\n",
            "Epoch 19\n",
            "MSE Train:  0.058111265\n",
            "MSE Test:  1.4758097\n",
            "\n",
            "\n",
            "Epoch 20\n",
            "MSE Train:  0.05765761\n",
            "MSE Test:  1.1334804\n",
            "\n",
            "\n",
            "Epoch 21\n",
            "MSE Train:  0.06063868\n",
            "MSE Test:  1.1164778\n",
            "\n",
            "\n",
            "Epoch 22\n",
            "MSE Train:  0.057907335\n",
            "MSE Test:  0.82044196\n",
            "\n",
            "\n",
            "Epoch 23\n",
            "MSE Train:  0.060843337\n",
            "MSE Test:  1.0975364\n",
            "\n",
            "\n",
            "Epoch 24\n",
            "MSE Train:  0.0635288\n",
            "MSE Test:  1.5178528\n",
            "\n",
            "\n",
            "Epoch 25\n",
            "MSE Train:  0.07019912\n",
            "MSE Test:  1.0497788\n",
            "\n",
            "\n",
            "Epoch 26\n",
            "MSE Train:  0.057741795\n",
            "MSE Test:  1.1279435\n",
            "\n",
            "\n",
            "Epoch 27\n",
            "MSE Train:  0.058193877\n",
            "MSE Test:  2.114357\n",
            "\n",
            "\n",
            "Epoch 28\n",
            "MSE Train:  0.057161067\n",
            "MSE Test:  1.1062336\n",
            "\n",
            "\n",
            "Epoch 29\n",
            "MSE Train:  0.091791406\n",
            "MSE Test:  0.45625162\n",
            "\n",
            "\n",
            "Epoch 30\n",
            "MSE Train:  0.057626262\n",
            "MSE Test:  0.5689882\n",
            "\n",
            "\n",
            "Epoch 31\n",
            "MSE Train:  0.05880255\n",
            "MSE Test:  1.2323792\n",
            "\n",
            "\n",
            "Epoch 32\n",
            "MSE Train:  0.063619696\n",
            "MSE Test:  1.1749094\n",
            "\n",
            "\n",
            "Epoch 33\n",
            "MSE Train:  0.057088017\n",
            "MSE Test:  0.9952417\n",
            "\n",
            "\n",
            "Epoch 34\n",
            "MSE Train:  0.058865964\n",
            "MSE Test:  0.6473971\n",
            "\n",
            "\n",
            "Epoch 35\n",
            "MSE Train:  0.09248951\n",
            "MSE Test:  0.7607501\n",
            "\n",
            "\n",
            "Epoch 36\n",
            "MSE Train:  0.05819154\n",
            "MSE Test:  1.6843212\n",
            "\n",
            "\n",
            "Epoch 37\n",
            "MSE Train:  0.059304822\n",
            "MSE Test:  0.82359195\n",
            "\n",
            "\n",
            "Epoch 38\n",
            "MSE Train:  0.0565658\n",
            "MSE Test:  0.65726936\n",
            "\n",
            "\n",
            "Epoch 39\n",
            "MSE Train:  0.07393984\n",
            "MSE Test:  1.7549751\n",
            "\n",
            "\n",
            "Epoch 40\n",
            "MSE Train:  0.056515265\n",
            "MSE Test:  1.0509126\n",
            "\n",
            "\n",
            "Epoch 41\n",
            "MSE Train:  0.05855014\n",
            "MSE Test:  0.6539481\n",
            "\n",
            "\n",
            "Epoch 42\n",
            "MSE Train:  0.055539303\n",
            "MSE Test:  1.3245814\n",
            "\n",
            "\n",
            "Epoch 43\n",
            "MSE Train:  0.06145213\n",
            "MSE Test:  1.3223066\n",
            "\n",
            "\n",
            "Epoch 44\n",
            "MSE Train:  0.060598727\n",
            "MSE Test:  1.0761522\n",
            "\n",
            "\n",
            "Epoch 45\n",
            "MSE Train:  0.056077726\n",
            "MSE Test:  0.56681097\n",
            "\n",
            "\n",
            "Epoch 46\n",
            "MSE Train:  0.060531635\n",
            "MSE Test:  0.66900814\n",
            "\n",
            "\n",
            "Epoch 47\n",
            "MSE Train:  0.058093067\n",
            "MSE Test:  0.9558127\n",
            "\n",
            "\n",
            "Epoch 48\n",
            "MSE Train:  0.056236077\n",
            "MSE Test:  0.5782925\n",
            "\n",
            "\n",
            "Epoch 49\n",
            "MSE Train:  0.05562894\n",
            "MSE Test:  0.80962634\n",
            "\n",
            "\n",
            "Epoch 50\n",
            "MSE Train:  0.062324494\n",
            "MSE Test:  1.4640981\n",
            "\n",
            "\n",
            "Epoch 51\n",
            "MSE Train:  0.055751134\n",
            "MSE Test:  0.8912556\n",
            "\n",
            "\n",
            "Epoch 52\n",
            "MSE Train:  0.057538897\n",
            "MSE Test:  0.43746614\n",
            "\n",
            "\n",
            "Epoch 53\n",
            "MSE Train:  0.059780315\n",
            "MSE Test:  0.5897498\n",
            "\n",
            "\n",
            "Epoch 54\n",
            "MSE Train:  0.056047287\n",
            "MSE Test:  0.33649802\n",
            "\n",
            "\n",
            "Epoch 55\n",
            "MSE Train:  0.05624457\n",
            "MSE Test:  0.45960757\n",
            "\n",
            "\n",
            "Epoch 56\n",
            "MSE Train:  0.05487688\n",
            "MSE Test:  0.40678415\n",
            "\n",
            "\n",
            "Epoch 57\n",
            "MSE Train:  0.05585211\n",
            "MSE Test:  0.2750543\n",
            "\n",
            "\n",
            "Epoch 58\n",
            "MSE Train:  0.056739725\n",
            "MSE Test:  0.62509024\n",
            "\n",
            "\n",
            "Epoch 59\n",
            "MSE Train:  0.05551007\n",
            "MSE Test:  0.37682313\n",
            "\n",
            "\n",
            "Epoch 60\n",
            "MSE Train:  0.05437713\n",
            "MSE Test:  0.31979626\n",
            "\n",
            "\n"
          ]
        }
      ],
      "source": [
        "# Run\n",
        "epochs \u003d 60 # One Epoch is when an ENTIRE dataset is passed forward and backward through the neural network only ONCE.\n",
        "\n",
        "for e in range(epochs):\n",
        "\n",
        "    # Shuffle training data\n",
        "    shuffle_indices \u003d np.random.permutation(np.arange(len(y_train)))\n",
        "    X_train \u003d X_train[shuffle_indices]\n",
        "    y_train \u003d y_train[shuffle_indices]\n",
        "\n",
        "    # Minibatch training\n",
        "    for i in range(0, len(y_train) // batch_size):\n",
        "        start \u003d i * batch_size\n",
        "        batch_x \u003d X_train[start:start + batch_size]\n",
        "        batch_y \u003d y_train[start:start + batch_size]\n",
        "        \n",
        "        # Run optimizer with batch\n",
        "        sess.run(optimizer, feed_dict\u003d{X: batch_x, Y: batch_y})\n",
        "\n",
        "        # Show progress\n",
        "        if np.mod(i, 100) \u003d\u003d 0: # every 100 steps\n",
        "            # MSE train and test\n",
        "            mse_train.append(sess.run(mse, feed_dict\u003d{X: X_train, Y: y_train}))\n",
        "            mse_test.append(sess.run(mse, feed_dict\u003d{X: X_test, Y: y_test}))\n",
        "            print(\u0027Epoch \u0027 + str(e + 1))\n",
        "            print(\u0027MSE Train: \u0027, mse_train[-1])\n",
        "            print(\u0027MSE Test: \u0027, mse_test[-1])\n",
        "            print(\u0027\\n\u0027)\n",
        "            \n",
        "            # Prediction\n",
        "            prediction \u003d sess.run(out, feed_dict\u003d{X: X_test})\n",
        "            line2.set_ydata(prediction)\n",
        "            #plt.title(\u0027Epoch \u0027 + str(e + 1) + \u0027, Batch \u0027 + str(i))\n",
        "            #plt.pause(0.01)"
      ]
    },
    {
      "cell_type": "code",
      "execution_count": 173,
      "metadata": {
        "pycharm": {}
      },
      "outputs": [
        {
          "data": {
            "image/png": "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\u003d\n",
            "text/plain": [
              "\u003cFigure size 1440x720 with 1 Axes\u003e"
            ]
          },
          "metadata": {
            "needs_background": "light"
          },
          "output_type": "display_data"
        }
      ],
      "source": [
        "# plot\n",
        "fig, ax \u003d plt.subplots()\n",
        "ax.plot(mse_train, label\u003d\u0027train\u0027)\n",
        "ax.plot(mse_test, label\u003d\u0027test\u0027)\n",
        "leg \u003d ax.legend()\n",
        "plt.xlabel(\"Epoch\")\n",
        "plt.ylabel(\"Error\")\n",
        "plt.savefig(\"Error.png\")\n",
        "plt.show()"
      ]
    },
    {
      "cell_type": "code",
      "execution_count": 174,
      "metadata": {
        "pycharm": {}
      },
      "outputs": [],
      "source": [
        "sess.close()"
      ]
    },
    {
      "cell_type": "code",
      "execution_count": null,
      "metadata": {
        "pycharm": {}
      },
      "outputs": [],
      "source": []
    }
  ],
  "metadata": {
    "kernelspec": {
      "display_name": "Python 3",
      "language": "python",
      "name": "python3"
    },
    "language_info": {
      "codemirror_mode": {
        "name": "ipython",
        "version": 3
      },
      "file_extension": ".py",
      "mimetype": "text/x-python",
      "name": "python",
      "nbconvert_exporter": "python",
      "pygments_lexer": "ipython3",
      "version": "3.7.1"
    }
  },
  "nbformat": 4,
  "nbformat_minor": 2
}